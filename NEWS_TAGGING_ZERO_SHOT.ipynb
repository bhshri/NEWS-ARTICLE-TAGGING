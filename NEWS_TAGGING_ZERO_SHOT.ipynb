{
  "nbformat": 4,
  "nbformat_minor": 0,
  "metadata": {
    "colab": {
      "name": "DL_HOME_ASSIGNMENT_2.ipynb",
      "provenance": [],
      "collapsed_sections": [
        "nIICoORLDhkC"
      ],
      "machine_shape": "hm"
    },
    "kernelspec": {
      "name": "python3",
      "display_name": "Python 3"
    },
    "accelerator": "GPU"
  },
  "cells": [
    {
      "cell_type": "code",
      "metadata": {
        "colab": {
          "base_uri": "https://localhost:8080/"
        },
        "id": "hnaWOaiDbdCW",
        "outputId": "12a19edf-34bd-4252-ea47-84323621045f"
      },
      "source": [
        "from google.colab import drive\n",
        "drive.mount('/content/drive')"
      ],
      "execution_count": null,
      "outputs": [
        {
          "output_type": "stream",
          "text": [
            "Mounted at /content/drive\n"
          ],
          "name": "stdout"
        }
      ]
    },
    {
      "cell_type": "markdown",
      "metadata": {
        "id": "xCX8KQ0kDbTp"
      },
      "source": [
        "# **NEWS TAG PREDICTION**\n",
        "\n",
        "**Description**\n",
        "\n",
        "Tagging can be seen as the action of connecting a relevant user-defined keyword to a document, image or\n",
        "video, which helps user to better organize and share their collections of interesting stuff. With the\n",
        "rapid growth of Web 2.0, tagged data is becoming more and more abundant on the social network\n",
        "websites. An interesting problem is how to automate the process of making tag recommendations\n",
        "to users when a new resource becomes available. \n",
        "\n",
        "In this case study, a machine learning perspective is used to automate the process of tag recommendation for news articles.\n",
        "\n",
        "\n",
        "**Problem Statement**\n",
        "\n",
        "Suggest tags for the news articles based on the text content in the headline, synopsis and article text. "
      ]
    },
    {
      "cell_type": "markdown",
      "metadata": {
        "id": "nIICoORLDhkC"
      },
      "source": [
        "## **DATA COLLECTION**\n",
        "News articles were collected from [IndianExpress.com](https://indianexpress.com/) by scraping the web pages using BeautifulSoup API. The dataset contains 57530 news articles of various sections of the news.\n",
        "\n"
      ]
    },
    {
      "cell_type": "code",
      "metadata": {
        "id": "VvwdYRKvR15R"
      },
      "source": [
        "import requests\n",
        "import urllib.request\n",
        "import time\n",
        "from bs4 import BeautifulSoup\n",
        "import pickle\n",
        "import concurrent.futures\n",
        "import tqdm\n",
        "\n",
        "def get_article_data(url):\n",
        "    response = requests.get(url)\n",
        "    soup = BeautifulSoup(response.text, \"html.parser\")\n",
        "    headline = soup.find_all(name = 'h1',attrs={'class':'native_story_title','itemprop':\"headline\"})[0].text\n",
        "    location = soup.find_all(name = 'div',attrs = {\"class\":\"editor\",\"id\":\"storycenterbyline\"})[0].text.split('|')[1].strip()\n",
        "    date = soup.find_all(name = 'span',attrs = {'itemprop':\"dateModified\"} )[0].text.strip()\n",
        "    synopsis = soup.find_all(name='h2',attrs={'itemprop':\"description\" ,'class':\"synopsis\"})[0].text\n",
        "\n",
        "    #Extracting article text\n",
        "    article_text = \"\"\n",
        "    paragraphs = soup.find_all(name='p',attrs={})[:-2]\n",
        "    for para in paragraphs:\n",
        "      article_text+=para.text\n",
        "\n",
        "    #Extracting tag and tag url associated with the news article\n",
        "    story_tag = soup.find_all(name = 'div',attrs = {'class':\"storytags\"} )[0]\n",
        "    a_element_list = story_tag.find_all(name = 'a')\n",
        "    tag_list = []\n",
        "    tag_link_list = []\n",
        "    for a in a_element_list:\n",
        "      tag_list.append(a.text)\n",
        "      tag_link_list.append(a.attrs['href'])\n",
        "    tags = \",\".join(tag_list)\n",
        "    tag_links = \",\".join(tag_link_list)\n",
        "\n",
        "    return url,headline,date,location,synopsis,article_text,tags,tag_links\n",
        "\n",
        "def write_news_articles_to_file(urls):\n",
        "    article_data = \"\"\n",
        "    count = 0\n",
        "    for i in tqdm.tnrange(0,len(urls)):\n",
        "            try:\n",
        "                tuple_data = get_article_data(urls[i])\n",
        "                article_data = article_data + \"\\n\"+\"^\".join(tuple_data)\n",
        "                count+=1\n",
        "                #Write to the file after every 100 news articles are retrieved\n",
        "                if count == 100:\n",
        "                  with open('/content/drive/My Drive/Applied ai case study/News_Tagging_Case_Study_1/Tagged_News_dataset.csv','a') as f:\n",
        "                        f.write(article_data)\n",
        "                        print('file write complete')\n",
        "                  count = 0\n",
        "                  article_data = \"\"\n",
        "            except Exception as exc:\n",
        "                print(i,urls[i], exc)\n",
        "\n",
        "\n",
        "write_news_articles_to_file(filtered_tag_article_urls)"
      ],
      "execution_count": null,
      "outputs": []
    },
    {
      "cell_type": "code",
      "metadata": {
        "id": "ppy06ARbFGBy"
      },
      "source": [
        "import pickle\n",
        "\n",
        "with open('/content/drive/My Drive/Applied ai case study/News_Tagging_Case_Study_1/india_section_news_article_urls.pickle','rb') as f:\n",
        "  urls = pickle.load(f)\n",
        "\n",
        "target=write_news_articles_to_file(urls)"
      ],
      "execution_count": null,
      "outputs": []
    },
    {
      "cell_type": "code",
      "metadata": {
        "id": "MVJ2WBl4V5kE"
      },
      "source": [
        "import pandas as pd\n",
        "\n",
        "tagged_news_data = pd.read_csv('/content/drive/My Drive/Applied ai case study/News_Tagging_Case_Study_1/indianexpress_news_tagged_dataset.csv')"
      ],
      "execution_count": null,
      "outputs": []
    },
    {
      "cell_type": "markdown",
      "metadata": {
        "id": "AUiGomf-OI3l"
      },
      "source": [
        "## **DATA ANALYSIS**"
      ]
    },
    {
      "cell_type": "code",
      "metadata": {
        "id": "XVYsSzxGTZs9",
        "colab": {
          "base_uri": "https://localhost:8080/"
        },
        "outputId": "e48fa092-f144-40fa-f769-5fc7ae4b5716"
      },
      "source": [
        "tagged_news_data.columns"
      ],
      "execution_count": null,
      "outputs": [
        {
          "output_type": "execute_result",
          "data": {
            "text/plain": [
              "Index(['URL', 'HEADLINE', 'DATE', 'LOCATION', 'SYNOPSIS', 'ARTICLE_TEXT',\n",
              "       'TAGS', 'TAG_LINKS'],\n",
              "      dtype='object')"
            ]
          },
          "metadata": {
            "tags": []
          },
          "execution_count": 8
        }
      ]
    },
    {
      "cell_type": "code",
      "metadata": {
        "colab": {
          "base_uri": "https://localhost:8080/"
        },
        "id": "UbsKOYrmVrBH",
        "outputId": "6d726470-f318-41d6-8c80-f2f520a328f4"
      },
      "source": [
        "tagged_news_data.shape"
      ],
      "execution_count": null,
      "outputs": [
        {
          "output_type": "execute_result",
          "data": {
            "text/plain": [
              "(57530, 8)"
            ]
          },
          "metadata": {
            "tags": []
          },
          "execution_count": 9
        }
      ]
    },
    {
      "cell_type": "code",
      "metadata": {
        "colab": {
          "base_uri": "https://localhost:8080/",
          "height": 568
        },
        "id": "OzMd-W7ONvFW",
        "outputId": "22c007b3-369e-4955-d985-8a34e0f98c4c"
      },
      "source": [
        "tagged_news_data.head()"
      ],
      "execution_count": null,
      "outputs": [
        {
          "output_type": "execute_result",
          "data": {
            "text/html": [
              "<div>\n",
              "<style scoped>\n",
              "    .dataframe tbody tr th:only-of-type {\n",
              "        vertical-align: middle;\n",
              "    }\n",
              "\n",
              "    .dataframe tbody tr th {\n",
              "        vertical-align: top;\n",
              "    }\n",
              "\n",
              "    .dataframe thead th {\n",
              "        text-align: right;\n",
              "    }\n",
              "</style>\n",
              "<table border=\"1\" class=\"dataframe\">\n",
              "  <thead>\n",
              "    <tr style=\"text-align: right;\">\n",
              "      <th></th>\n",
              "      <th>URL</th>\n",
              "      <th>HEADLINE</th>\n",
              "      <th>DATE</th>\n",
              "      <th>LOCATION</th>\n",
              "      <th>SYNOPSIS</th>\n",
              "      <th>ARTICLE_TEXT</th>\n",
              "      <th>TAGS</th>\n",
              "      <th>TAG_LINKS</th>\n",
              "    </tr>\n",
              "  </thead>\n",
              "  <tbody>\n",
              "    <tr>\n",
              "      <th>0</th>\n",
              "      <td>https://indianexpress.com/article/india/no-dis...</td>\n",
              "      <td>No disquiet among MLAs over ministerial berths...</td>\n",
              "      <td>Updated: June 12, 2018  6:02:58 pm</td>\n",
              "      <td>Bengaluru</td>\n",
              "      <td>Not wishing to react on Kumaraswamy's statemen...</td>\n",
              "      <td>Former Karnataka Chief Minister Siddaramaiah o...</td>\n",
              "      <td>Congress,Karnataka,Siddaramaiah</td>\n",
              "      <td>https://indianexpress.com/about/congress/,http...</td>\n",
              "    </tr>\n",
              "    <tr>\n",
              "      <th>1</th>\n",
              "      <td>https://indianexpress.com/article/india/to-fly...</td>\n",
              "      <td>To fly Amit Shah, Kargil hero fakes mail, BSF ...</td>\n",
              "      <td>Updated: August 27, 2019  10:02:35 am</td>\n",
              "      <td>New Delhi</td>\n",
              "      <td>The probe was ordered when the BSF Air Wing, w...</td>\n",
              "      <td>A Kargil War hero from the Indian Air Force is...</td>\n",
              "      <td>amit shah,Indian Air Force (IAF)</td>\n",
              "      <td>https://indianexpress.com/about/amit-shah/,htt...</td>\n",
              "    </tr>\n",
              "    <tr>\n",
              "      <th>2</th>\n",
              "      <td>https://indianexpress.com/article/india/kalbur...</td>\n",
              "      <td>Kalburgi case probe: Final training camp in es...</td>\n",
              "      <td>Updated: July 8, 2019  7:05:56 am</td>\n",
              "      <td>Bengaluru</td>\n",
              "      <td>Several persons arrested in the Gauri Lankesh ...</td>\n",
              "      <td>THE PROBE by a Special Investigation Team (SIT...</td>\n",
              "      <td>Gauri Lankesh,M M Kalburgi</td>\n",
              "      <td>https://indianexpress.com/about/gauri-lankesh/...</td>\n",
              "    </tr>\n",
              "    <tr>\n",
              "      <th>3</th>\n",
              "      <td>https://indianexpress.com/article/india/intel-...</td>\n",
              "      <td>Intel chiefs of Russia, China, Iran and Pakist...</td>\n",
              "      <td>Updated: July 12, 2018  6:03:00 am</td>\n",
              "      <td>New Delhi</td>\n",
              "      <td>The official confirmation of the meeting came ...</td>\n",
              "      <td>Intelligence chiefs of Russia, China, Iran and...</td>\n",
              "      <td>Islamic State (IS)</td>\n",
              "      <td>https://indianexpress.com/about/islamic-state-is/</td>\n",
              "    </tr>\n",
              "    <tr>\n",
              "      <th>4</th>\n",
              "      <td>https://indianexpress.com/article/india/naxal-...</td>\n",
              "      <td>Naxal commander killed in encounter with secur...</td>\n",
              "      <td>Published: June 8, 2018  5:23:54 pm</td>\n",
              "      <td>Raipur</td>\n",
              "      <td>The gun-battle took place early Friday morning...</td>\n",
              "      <td>A naxal commander was on Friday gunned down in...</td>\n",
              "      <td>Naxal commander</td>\n",
              "      <td>https://indianexpress.com/about/naxal-commander/</td>\n",
              "    </tr>\n",
              "  </tbody>\n",
              "</table>\n",
              "</div>"
            ],
            "text/plain": [
              "                                                 URL  ...                                          TAG_LINKS\n",
              "0  https://indianexpress.com/article/india/no-dis...  ...  https://indianexpress.com/about/congress/,http...\n",
              "1  https://indianexpress.com/article/india/to-fly...  ...  https://indianexpress.com/about/amit-shah/,htt...\n",
              "2  https://indianexpress.com/article/india/kalbur...  ...  https://indianexpress.com/about/gauri-lankesh/...\n",
              "3  https://indianexpress.com/article/india/intel-...  ...  https://indianexpress.com/about/islamic-state-is/\n",
              "4  https://indianexpress.com/article/india/naxal-...  ...   https://indianexpress.com/about/naxal-commander/\n",
              "\n",
              "[5 rows x 8 columns]"
            ]
          },
          "metadata": {
            "tags": []
          },
          "execution_count": 10
        }
      ]
    },
    {
      "cell_type": "markdown",
      "metadata": {
        "id": "UJOjH9hQbV6v"
      },
      "source": [
        "**Count of unique tags**"
      ]
    },
    {
      "cell_type": "code",
      "metadata": {
        "id": "Q2Mw4J1rV1qb"
      },
      "source": [
        "tag_count_dictionary = dict()\n",
        "\n",
        "for tags in tagged_news_data['TAGS']:\n",
        "  for tag in tags.split(','):\n",
        "    if tag_count_dictionary.get(tag.strip()) == None:\n",
        "      tag_count_dictionary[tag.strip()] = 1\n",
        "    else:\n",
        "      tag_count_dictionary[tag.strip()] += 1"
      ],
      "execution_count": null,
      "outputs": []
    },
    {
      "cell_type": "code",
      "metadata": {
        "id": "Fy-WXUirXHDc",
        "colab": {
          "base_uri": "https://localhost:8080/"
        },
        "outputId": "126a7702-c1a3-443e-ba33-e6ff67536c1e"
      },
      "source": [
        "print('Total number of unique tags: ',len(tag_count_dictionary))"
      ],
      "execution_count": null,
      "outputs": [
        {
          "output_type": "stream",
          "text": [
            "Total number of unique tags:  17681\n"
          ],
          "name": "stdout"
        }
      ]
    },
    {
      "cell_type": "markdown",
      "metadata": {
        "id": "0I9Umu8Ubi23"
      },
      "source": [
        "**Number of news articles for each tag**"
      ]
    },
    {
      "cell_type": "code",
      "metadata": {
        "id": "k19gMW5hX_MI",
        "colab": {
          "base_uri": "https://localhost:8080/",
          "height": 402
        },
        "outputId": "fddd3f15-a532-4e34-8f0c-0008d4aa19dd"
      },
      "source": [
        "tag_count_df = pd.DataFrame(data = list(tag_count_dictionary.items()),columns=['TAG','COUNT'])\n",
        "tag_count_df"
      ],
      "execution_count": null,
      "outputs": [
        {
          "output_type": "execute_result",
          "data": {
            "text/html": [
              "<div>\n",
              "<style scoped>\n",
              "    .dataframe tbody tr th:only-of-type {\n",
              "        vertical-align: middle;\n",
              "    }\n",
              "\n",
              "    .dataframe tbody tr th {\n",
              "        vertical-align: top;\n",
              "    }\n",
              "\n",
              "    .dataframe thead th {\n",
              "        text-align: right;\n",
              "    }\n",
              "</style>\n",
              "<table border=\"1\" class=\"dataframe\">\n",
              "  <thead>\n",
              "    <tr style=\"text-align: right;\">\n",
              "      <th></th>\n",
              "      <th>TAG</th>\n",
              "      <th>COUNT</th>\n",
              "    </tr>\n",
              "  </thead>\n",
              "  <tbody>\n",
              "    <tr>\n",
              "      <th>0</th>\n",
              "      <td>Congress</td>\n",
              "      <td>1080</td>\n",
              "    </tr>\n",
              "    <tr>\n",
              "      <th>1</th>\n",
              "      <td>Karnataka</td>\n",
              "      <td>177</td>\n",
              "    </tr>\n",
              "    <tr>\n",
              "      <th>2</th>\n",
              "      <td>Siddaramaiah</td>\n",
              "      <td>59</td>\n",
              "    </tr>\n",
              "    <tr>\n",
              "      <th>3</th>\n",
              "      <td>amit shah</td>\n",
              "      <td>533</td>\n",
              "    </tr>\n",
              "    <tr>\n",
              "      <th>4</th>\n",
              "      <td>Indian Air Force (IAF)</td>\n",
              "      <td>37</td>\n",
              "    </tr>\n",
              "    <tr>\n",
              "      <th>...</th>\n",
              "      <td>...</td>\n",
              "      <td>...</td>\n",
              "    </tr>\n",
              "    <tr>\n",
              "      <th>17676</th>\n",
              "      <td>Telecom Regulatory Authority of India (Trai)</td>\n",
              "      <td>1</td>\n",
              "    </tr>\n",
              "    <tr>\n",
              "      <th>17677</th>\n",
              "      <td>arab news</td>\n",
              "      <td>1</td>\n",
              "    </tr>\n",
              "    <tr>\n",
              "      <th>17678</th>\n",
              "      <td>yoga poses</td>\n",
              "      <td>1</td>\n",
              "    </tr>\n",
              "    <tr>\n",
              "      <th>17679</th>\n",
              "      <td>7/11 Mumbai serial blasts</td>\n",
              "      <td>1</td>\n",
              "    </tr>\n",
              "    <tr>\n",
              "      <th>17680</th>\n",
              "      <td>Skype video call</td>\n",
              "      <td>1</td>\n",
              "    </tr>\n",
              "  </tbody>\n",
              "</table>\n",
              "<p>17681 rows × 2 columns</p>\n",
              "</div>"
            ],
            "text/plain": [
              "                                                TAG  COUNT\n",
              "0                                          Congress   1080\n",
              "1                                         Karnataka    177\n",
              "2                                      Siddaramaiah     59\n",
              "3                                         amit shah    533\n",
              "4                            Indian Air Force (IAF)     37\n",
              "...                                             ...    ...\n",
              "17676  Telecom Regulatory Authority of India (Trai)      1\n",
              "17677                                     arab news      1\n",
              "17678                                    yoga poses      1\n",
              "17679                     7/11 Mumbai serial blasts      1\n",
              "17680                              Skype video call      1\n",
              "\n",
              "[17681 rows x 2 columns]"
            ]
          },
          "metadata": {
            "tags": []
          },
          "execution_count": 13
        }
      ]
    },
    {
      "cell_type": "markdown",
      "metadata": {
        "id": "HWN_yplOhw0V"
      },
      "source": [
        "**Using tags with atleast 10 news articles**"
      ]
    },
    {
      "cell_type": "code",
      "metadata": {
        "id": "hFZvhw3yhSTV"
      },
      "source": [
        "tags = []\r\n",
        "for tag,count in tag_count_dictionary.items():\r\n",
        "    if count >= 10:\r\n",
        "      tags.append(tag)"
      ],
      "execution_count": null,
      "outputs": []
    },
    {
      "cell_type": "code",
      "metadata": {
        "colab": {
          "base_uri": "https://localhost:8080/"
        },
        "id": "_dkTea-Yhr1H",
        "outputId": "78a09b6a-21e6-4fd2-8710-79257183f2d2"
      },
      "source": [
        "len(tags)"
      ],
      "execution_count": null,
      "outputs": [
        {
          "output_type": "execute_result",
          "data": {
            "text/plain": [
              "2839"
            ]
          },
          "metadata": {
            "tags": []
          },
          "execution_count": 15
        }
      ]
    },
    {
      "cell_type": "code",
      "metadata": {
        "id": "u0-p-1or71hB"
      },
      "source": [
        "TOTAL_TAGS = 2839"
      ],
      "execution_count": null,
      "outputs": []
    },
    {
      "cell_type": "markdown",
      "metadata": {
        "id": "BP6tZvWfP5AN"
      },
      "source": [
        "## TRAIN TEST SPLIT"
      ]
    },
    {
      "cell_type": "code",
      "metadata": {
        "id": "Ni9zGZXAQYSk",
        "colab": {
          "base_uri": "https://localhost:8080/"
        },
        "outputId": "bf40e882-c61f-426d-c6a1-5d09311a3620"
      },
      "source": [
        "!pip install scikit-multilearn"
      ],
      "execution_count": null,
      "outputs": [
        {
          "output_type": "stream",
          "text": [
            "Requirement already satisfied: scikit-multilearn in /usr/local/lib/python3.6/dist-packages (0.2.0)\n"
          ],
          "name": "stdout"
        }
      ]
    },
    {
      "cell_type": "code",
      "metadata": {
        "id": "itsODexaRTwO",
        "colab": {
          "base_uri": "https://localhost:8080/"
        },
        "outputId": "405244b4-0e0e-404e-96a0-f9c806b06465"
      },
      "source": [
        "!pip install arff"
      ],
      "execution_count": null,
      "outputs": [
        {
          "output_type": "stream",
          "text": [
            "Requirement already satisfied: arff in /usr/local/lib/python3.6/dist-packages (0.9)\n"
          ],
          "name": "stdout"
        }
      ]
    },
    {
      "cell_type": "code",
      "metadata": {
        "id": "v3Dfloj2WC4h"
      },
      "source": [
        "import numpy as np\r\n",
        "X = []\r\n",
        "Y = []\r\n",
        "\r\n",
        "for i in range(tagged_news_data.shape[0]):\r\n",
        "  labels = tagged_news_data['TAGS'][i].split(',')\r\n",
        "  count = 0\r\n",
        "  y = np.zeros(TOTAL_TAGS)\r\n",
        "  for label in labels:\r\n",
        "    if label in tags:\r\n",
        "        y[tags.index(label)] = 1\r\n",
        "        count+=1\r\n",
        "\r\n",
        "  if count > 0:\r\n",
        "    X.append([tagged_news_data['HEADLINE'][i],tagged_news_data['SYNOPSIS'][i], tagged_news_data['ARTICLE_TEXT'][i]])\r\n",
        "    Y.append(y)"
      ],
      "execution_count": null,
      "outputs": []
    },
    {
      "cell_type": "code",
      "metadata": {
        "id": "mSx0rr2v8N76"
      },
      "source": [
        "import pandas as pd\r\n",
        "\r\n",
        "X_np_array = pd.DataFrame(data = X,columns=['HEADLINE', 'SYNOPSIS', 'ARTICLE_TEXT']).values"
      ],
      "execution_count": null,
      "outputs": []
    },
    {
      "cell_type": "code",
      "metadata": {
        "colab": {
          "base_uri": "https://localhost:8080/"
        },
        "id": "BlFCuItYoUps",
        "outputId": "8faf5770-d1f1-401a-a4cb-c26d021a0b27"
      },
      "source": [
        "X_np_array.shape, len(Y)"
      ],
      "execution_count": null,
      "outputs": [
        {
          "output_type": "execute_result",
          "data": {
            "text/plain": [
              "((48205, 3), 48205)"
            ]
          },
          "metadata": {
            "tags": []
          },
          "execution_count": 16
        }
      ]
    },
    {
      "cell_type": "code",
      "metadata": {
        "id": "01kEHvEwXmID"
      },
      "source": [
        "from skmultilearn.model_selection import iterative_train_test_split\n",
        "import numpy as np\n",
        "\n",
        "X_train, y_train, X_test, y_test = iterative_train_test_split(X_np_array, np.array(Y), test_size = 0.2)"
      ],
      "execution_count": null,
      "outputs": []
    },
    {
      "cell_type": "code",
      "metadata": {
        "id": "Va8xA4TxejVt"
      },
      "source": [
        "X_train, y_train, X_val, y_val = iterative_train_test_split(X_train, y_train, test_size = 0.1)"
      ],
      "execution_count": null,
      "outputs": []
    },
    {
      "cell_type": "code",
      "metadata": {
        "id": "iq8UcSybZLn7",
        "colab": {
          "base_uri": "https://localhost:8080/"
        },
        "outputId": "e22bf0f1-1ce6-4a50-882a-eac1809d2cb6"
      },
      "source": [
        "X_train.shape,X_val.shape,X_test.shape"
      ],
      "execution_count": null,
      "outputs": [
        {
          "output_type": "execute_result",
          "data": {
            "text/plain": [
              "((32110, 3), (4965, 3), (11130, 3))"
            ]
          },
          "metadata": {
            "tags": []
          },
          "execution_count": 21
        }
      ]
    },
    {
      "cell_type": "code",
      "metadata": {
        "id": "UYdOelfdadqL",
        "colab": {
          "base_uri": "https://localhost:8080/"
        },
        "outputId": "c43df788-4835-4398-af2f-1d7bba60d901"
      },
      "source": [
        "y_train.shape,y_val.shape,y_test.shape"
      ],
      "execution_count": null,
      "outputs": [
        {
          "output_type": "execute_result",
          "data": {
            "text/plain": [
              "((32110, 2839), (4965, 2839), (11130, 2839))"
            ]
          },
          "metadata": {
            "tags": []
          },
          "execution_count": 23
        }
      ]
    },
    {
      "cell_type": "code",
      "metadata": {
        "id": "7e7m0H8zBMm7"
      },
      "source": [
        "# import numpy as np\r\n",
        "\r\n",
        "# np.save('/content/drive/MyDrive/Applied ai case study/News_Tagging_Case_Study_1/X_train.npy',X_train)\r\n",
        "# np.save('/content/drive/MyDrive/Applied ai case study/News_Tagging_Case_Study_1/X_val.npy',X_val)\r\n",
        "# np.save('/content/drive/MyDrive/Applied ai case study/News_Tagging_Case_Study_1/X_test.npy',X_test)\r\n",
        "\r\n",
        "\r\n",
        "# np.save('/content/drive/MyDrive/Applied ai case study/News_Tagging_Case_Study_1/y_train.npy',y_train)\r\n",
        "# np.save('/content/drive/MyDrive/Applied ai case study/News_Tagging_Case_Study_1/y_val.npy',y_val)\r\n",
        "# np.save('/content/drive/MyDrive/Applied ai case study/News_Tagging_Case_Study_1/y_test.npy',y_test)"
      ],
      "execution_count": null,
      "outputs": []
    },
    {
      "cell_type": "markdown",
      "metadata": {
        "id": "x7rqEbSLWHpC"
      },
      "source": [
        "## TEXT PREPROCESSING"
      ]
    },
    {
      "cell_type": "code",
      "metadata": {
        "id": "-pdtcXtKaW-L"
      },
      "source": [
        "import numpy as np\r\n",
        "import pickle\r\n",
        "\r\n",
        "X_train = np.load('/content/drive/MyDrive/Applied ai case study/News_Tagging_Case_Study_1/X_train.npy',allow_pickle=True)\r\n",
        "X_val   = np.load('/content/drive/MyDrive/Applied ai case study/News_Tagging_Case_Study_1/X_val.npy',allow_pickle=True)\r\n",
        "X_test  = np.load('/content/drive/MyDrive/Applied ai case study/News_Tagging_Case_Study_1/X_test.npy',allow_pickle=True)\r\n",
        "\r\n",
        "y_train = np.load('/content/drive/MyDrive/Applied ai case study/News_Tagging_Case_Study_1/y_train.npy')\r\n",
        "y_val   = np.load('/content/drive/MyDrive/Applied ai case study/News_Tagging_Case_Study_1/y_val.npy')\r\n",
        "y_test  = np.load('/content/drive/MyDrive/Applied ai case study/News_Tagging_Case_Study_1/y_test.npy')"
      ],
      "execution_count": null,
      "outputs": []
    },
    {
      "cell_type": "code",
      "metadata": {
        "id": "P3HXWGU0WMa6"
      },
      "source": [
        "import re\r\n",
        "\r\n",
        "def decontracted(phrase):\r\n",
        "        phrase = re.sub(r\"n\\'t\", \" not\", phrase)\r\n",
        "        phrase = re.sub(r\"\\'re\", \" are\", phrase)\r\n",
        "        phrase = re.sub(r\"\\'s\", \" is\", phrase)\r\n",
        "        phrase = re.sub(r\"\\'d\", \" would\", phrase)\r\n",
        "        phrase = re.sub(r\"\\'ll\", \" will\", phrase)\r\n",
        "        phrase = re.sub(r\"\\'t\", \" not\", phrase)\r\n",
        "        phrase = re.sub(r\"\\'ve\", \" have\", phrase)\r\n",
        "        phrase = re.sub(r\"\\'m\", \" am\", phrase)\r\n",
        "        return phrase\r\n",
        "\r\n",
        "def preprocess_text(text):\r\n",
        "  # lowercase\r\n",
        "  text = text.lower()\r\n",
        "  # Remove urls\r\n",
        "  pattern=r'(?i)\\b((?:[a-z][\\w-]+:(?:/{1,3}|[a-z0-9%])|www\\d{0,3}[.]|[a-z0-9.\\-]+[.][a-z]{2,4}/)(?:[^\\s()<>]+|\\(([^\\s()<>]+|(\\([^\\s()<>]+\\)))*\\))+(?:\\(([^\\s()<>]+|(\\([^\\s()<>]+\\)))*\\)|[^\\s`!()\\[\\]{};:\\'\".,<>?«»“”‘’]))'\r\n",
        "  text = re.sub(pattern, \" \",text)\r\n",
        "  # keep only aphabetical characters\r\n",
        "  text = re.sub(\"[^a-z]\",' ',text)\r\n",
        "  # decontract words\r\n",
        "  text = decontracted(text)\r\n",
        "  return text.strip()"
      ],
      "execution_count": null,
      "outputs": []
    },
    {
      "cell_type": "code",
      "metadata": {
        "id": "6oHdxaxX7Uqm"
      },
      "source": [
        "for i in range(X_train.shape[0]):\r\n",
        "  X_train[i][0] = preprocess_text(X_train[i][0])\r\n",
        "  X_train[i][1] = preprocess_text(X_train[i][1])\r\n",
        "  X_train[i][2] = preprocess_text(X_train[i][2])  "
      ],
      "execution_count": null,
      "outputs": []
    },
    {
      "cell_type": "code",
      "metadata": {
        "id": "MS209Wz075Gx"
      },
      "source": [
        "for i in range(X_val.shape[0]):\r\n",
        "  X_val[i][0] = preprocess_text(X_val[i][0])\r\n",
        "  X_val[i][1] = preprocess_text(X_val[i][1])\r\n",
        "  X_val[i][2] = preprocess_text(X_val[i][2])  "
      ],
      "execution_count": null,
      "outputs": []
    },
    {
      "cell_type": "code",
      "metadata": {
        "id": "xLEoFqpg9CJu"
      },
      "source": [
        "for i in range(X_test.shape[0]):\r\n",
        "  X_test[i][0] = preprocess_text(X_test[i][0])\r\n",
        "  X_test[i][1] = preprocess_text(X_test[i][1])\r\n",
        "  X_test[i][2] = preprocess_text(X_test[i][2])  "
      ],
      "execution_count": null,
      "outputs": []
    },
    {
      "cell_type": "markdown",
      "metadata": {
        "id": "9v1FCxIEB4Yb"
      },
      "source": [
        "## TOKENIZATION"
      ]
    },
    {
      "cell_type": "code",
      "metadata": {
        "id": "2AcDdwT_B7kf"
      },
      "source": [
        "from keras.preprocessing.text import Tokenizer\r\n",
        "from keras.preprocessing.sequence import pad_sequences\r\n",
        "\r\n",
        "tokenizer = Tokenizer()\r\n",
        "tokenizer.fit_on_texts(X_train[:,2])"
      ],
      "execution_count": null,
      "outputs": []
    },
    {
      "cell_type": "code",
      "metadata": {
        "colab": {
          "base_uri": "https://localhost:8080/"
        },
        "id": "c-PM2_RZKGCk",
        "outputId": "677e7457-56d9-40e5-9b77-82b2ba832f20"
      },
      "source": [
        "print(\"Unique number of tokens in the data: \",len(tokenizer.word_index))"
      ],
      "execution_count": null,
      "outputs": [
        {
          "output_type": "stream",
          "text": [
            "Unique number of tokens in the data:  118903\n"
          ],
          "name": "stdout"
        }
      ]
    },
    {
      "cell_type": "code",
      "metadata": {
        "id": "Xj5HbrCaY-Zq"
      },
      "source": [
        "X_train_sequence = tokenizer.texts_to_sequences(X_train[:,2])\r\n",
        "X_val_sequence = tokenizer.texts_to_sequences(X_val[:,2])\r\n",
        "X_test_sequence = tokenizer.texts_to_sequences(X_test[:,2])"
      ],
      "execution_count": null,
      "outputs": []
    },
    {
      "cell_type": "code",
      "metadata": {
        "colab": {
          "base_uri": "https://localhost:8080/"
        },
        "id": "-ZEWRDtiKRRC",
        "outputId": "617cdefc-02e5-4c00-eee9-97f0f45c3ef2"
      },
      "source": [
        "# MAX_SEQUENCE_LENGTH = 0\r\n",
        "# SEQUENCE_LENGTHS = []\r\n",
        "# for seq in X_train_sequence:\r\n",
        "#   SEQUENCE_LENGTHS.append(len(seq))\r\n",
        "#   if len(seq) > MAX_SEQUENCE_LENGTH:\r\n",
        "#     MAX_SEQUENCE_LENGTH = len(seq)\r\n",
        "\r\n",
        "# MAX_SEQUENCE_LENGTH"
      ],
      "execution_count": null,
      "outputs": [
        {
          "output_type": "execute_result",
          "data": {
            "text/plain": [
              "8088"
            ]
          },
          "metadata": {
            "tags": []
          },
          "execution_count": 59
        }
      ]
    },
    {
      "cell_type": "code",
      "metadata": {
        "colab": {
          "base_uri": "https://localhost:8080/",
          "height": 349
        },
        "id": "bewv4wpabWko",
        "outputId": "ebd576d3-d037-4a47-a69e-e23bac4b8bff"
      },
      "source": [
        "# import matplotlib.pyplot as plt\r\n",
        "\r\n",
        "# plt.hist(SEQUENCE_LENGTHS)"
      ],
      "execution_count": null,
      "outputs": [
        {
          "output_type": "execute_result",
          "data": {
            "text/plain": [
              "(array([3.0107e+04, 1.8640e+03, 9.3000e+01, 3.5000e+01, 6.0000e+00,\n",
              "        4.0000e+00, 0.0000e+00, 0.0000e+00, 0.0000e+00, 1.0000e+00]),\n",
              " array([  16. ,  823.2, 1630.4, 2437.6, 3244.8, 4052. , 4859.2, 5666.4,\n",
              "        6473.6, 7280.8, 8088. ]),\n",
              " <a list of 10 Patch objects>)"
            ]
          },
          "metadata": {
            "tags": []
          },
          "execution_count": 60
        },
        {
          "output_type": "display_data",
          "data": {
            "image/png": "[encoded data removed]",
            "text/plain": [
              "<Figure size 432x288 with 1 Axes>"
            ]
          },
          "metadata": {
            "tags": [],
            "needs_background": "light"
          }
        }
      ]
    },
    {
      "cell_type": "code",
      "metadata": {
        "colab": {
          "base_uri": "https://localhost:8080/"
        },
        "id": "ohrDia1qbsJ7",
        "outputId": "ff6dd701-df46-4350-878a-19201c8c4655"
      },
      "source": [
        "count = 0\r\n",
        "for seq in X_train_sequence:\r\n",
        "  if len(seq) <= 1000:\r\n",
        "    count+=1\r\n",
        "count/len(X_train_sequence)"
      ],
      "execution_count": null,
      "outputs": [
        {
          "output_type": "execute_result",
          "data": {
            "text/plain": [
              "0.9709436312675179"
            ]
          },
          "metadata": {
            "tags": []
          },
          "execution_count": 61
        }
      ]
    },
    {
      "cell_type": "code",
      "metadata": {
        "colab": {
          "base_uri": "https://localhost:8080/"
        },
        "id": "Fn3qkI9ec_g3",
        "outputId": "7bff93d4-2166-46c7-d706-8798f941243b"
      },
      "source": [
        "count = 0\r\n",
        "for seq in X_val_sequence:\r\n",
        "  if len(seq) <= 1000:\r\n",
        "    count+=1\r\n",
        "count/len(X_val_sequence)"
      ],
      "execution_count": null,
      "outputs": [
        {
          "output_type": "execute_result",
          "data": {
            "text/plain": [
              "0.9784491440080564"
            ]
          },
          "metadata": {
            "tags": []
          },
          "execution_count": 63
        }
      ]
    },
    {
      "cell_type": "code",
      "metadata": {
        "colab": {
          "base_uri": "https://localhost:8080/"
        },
        "id": "AjHKQpnkc-zy",
        "outputId": "770fbaa4-490d-45ac-c27a-bb98f93fc473"
      },
      "source": [
        "count = 0\r\n",
        "for seq in X_test_sequence:\r\n",
        "  if len(seq) <= 1000:\r\n",
        "    count+=1\r\n",
        "count/len(X_test_sequence)"
      ],
      "execution_count": null,
      "outputs": [
        {
          "output_type": "execute_result",
          "data": {
            "text/plain": [
              "0.9751123090745732"
            ]
          },
          "metadata": {
            "tags": []
          },
          "execution_count": 64
        }
      ]
    },
    {
      "cell_type": "code",
      "metadata": {
        "id": "tLm0UPdGcPYY"
      },
      "source": [
        "MAX_SEQUENCE_LENGTH = 1000"
      ],
      "execution_count": null,
      "outputs": []
    },
    {
      "cell_type": "code",
      "metadata": {
        "id": "lJmvb43RMjKh"
      },
      "source": [
        "X_train_seq = pad_sequences(X_train_sequence, maxlen=MAX_SEQUENCE_LENGTH,padding = 'post')\r\n",
        "X_val_seq   = pad_sequences(X_val_sequence, maxlen=MAX_SEQUENCE_LENGTH,padding = 'post')\r\n",
        "X_test_seq  = pad_sequences(X_test_sequence, maxlen=MAX_SEQUENCE_LENGTH,padding = 'post')"
      ],
      "execution_count": null,
      "outputs": []
    },
    {
      "cell_type": "markdown",
      "metadata": {
        "id": "2Mwf2fznB-VR"
      },
      "source": [
        "## EMBEDDING"
      ]
    },
    {
      "cell_type": "code",
      "metadata": {
        "id": "gEKfjzg7CBg8"
      },
      "source": [
        "# import gensim.models\r\n",
        "# sentences = []\r\n",
        "# for x in X_train[:,2]:\r\n",
        "#   sentences.append(x.split())\r\n",
        "# skipGramModel = gensim.models.Word2Vec(sentences=sentences,sg = 1,workers=16,iter = 50,window=10,min_count = 1)"
      ],
      "execution_count": null,
      "outputs": []
    },
    {
      "cell_type": "code",
      "metadata": {
        "id": "Uzb2RSahFWLA"
      },
      "source": [
        "# skipGramModel.wv.save_word2vec_format(fname='/content/drive/MyDrive/Applied ai case study/News_Tagging_Case_Study_1/word_vectors.bin',binary=True)"
      ],
      "execution_count": null,
      "outputs": []
    },
    {
      "cell_type": "code",
      "metadata": {
        "colab": {
          "base_uri": "https://localhost:8080/"
        },
        "id": "ZTybJmGFZANJ",
        "outputId": "759aa83f-69b6-46b3-f6e8-505b445f98b8"
      },
      "source": [
        "len(skipGramModel.wv.vocab)"
      ],
      "execution_count": null,
      "outputs": [
        {
          "output_type": "execute_result",
          "data": {
            "text/plain": [
              "118903"
            ]
          },
          "metadata": {
            "tags": []
          },
          "execution_count": 55
        }
      ]
    },
    {
      "cell_type": "code",
      "metadata": {
        "id": "WCEonK5JJD9G"
      },
      "source": [
        "skipGramModel = gensim.models.KeyedVectors.load_word2vec_format('/content/drive/MyDrive/Applied ai case study/News_Tagging_Case_Study_1/word_vectors.bin',binary=True)"
      ],
      "execution_count": null,
      "outputs": []
    },
    {
      "cell_type": "code",
      "metadata": {
        "id": "AvPiA5i-dj56"
      },
      "source": [
        "# #create embedding matrix\r\n",
        "# import numpy as np\r\n",
        "# EMBEDDING_DIM = 100\r\n",
        "# word_index = tokenizer.word_index\r\n",
        "# embedding_matrix = np.zeros((len(word_index) + 1, EMBEDDING_DIM))\r\n",
        "# for word, i in word_index.items():\r\n",
        "#     try:\r\n",
        "#       embedding_vector = skipGramModel.wv.get_vector(word)\r\n",
        "#       embedding_matrix[i] = embedding_vector\r\n",
        "#     except:\r\n",
        "#       pass"
      ],
      "execution_count": null,
      "outputs": []
    },
    {
      "cell_type": "code",
      "metadata": {
        "id": "kWBxIttTeHRB"
      },
      "source": [
        "# np.save('/content/drive/MyDrive/Applied ai case study/News_Tagging_Case_Study_1/embedding_matrix.npy',embedding_matrix)"
      ],
      "execution_count": null,
      "outputs": []
    },
    {
      "cell_type": "code",
      "metadata": {
        "id": "eLccaA61eSz5"
      },
      "source": [
        "import numpy as np\r\n",
        "EMBEDDING_DIM = 100\r\n",
        "word_index = tokenizer.word_index\r\n",
        "embedding_matrix = np.load('/content/drive/MyDrive/Applied ai case study/News_Tagging_Case_Study_1/embedding_matrix.npy')"
      ],
      "execution_count": null,
      "outputs": []
    },
    {
      "cell_type": "markdown",
      "metadata": {
        "id": "mv3VbJELEYrG"
      },
      "source": [
        "## MODELS"
      ]
    },
    {
      "cell_type": "markdown",
      "metadata": {
        "id": "LaPLLYvKArAk"
      },
      "source": [
        "### BI-LSTM MULTI LABEL CLASSIFICATION"
      ]
    },
    {
      "cell_type": "code",
      "metadata": {
        "colab": {
          "base_uri": "https://localhost:8080/"
        },
        "id": "-PBj4GrLEaSN",
        "outputId": "7cd91672-423e-40fb-c691-341dac82fc97"
      },
      "source": [
        "import tensorflow as tf\r\n",
        "\r\n",
        "tf.keras.backend.clear_session()\r\n",
        "\r\n",
        "BILSTM_HIDDEN_UNITS = 10\r\n",
        "\r\n",
        "text_input = tf.keras.layers.Input(shape=(MAX_SEQUENCE_LENGTH,), dtype='int32')\r\n",
        "#Using Word2Vec Model as pretrained embedding \r\n",
        "embedding_layer = tf.keras.layers.Embedding(len(word_index) + 1,\r\n",
        "                                            EMBEDDING_DIM,\r\n",
        "                                            weights=[embedding_matrix],\r\n",
        "                                            input_length=MAX_SEQUENCE_LENGTH,\r\n",
        "                                            trainable=True)\r\n",
        "\r\n",
        "\r\n",
        "embedded_text_input = embedding_layer(text_input)\r\n",
        "\r\n",
        "bilstm_output = tf.keras.layers.Bidirectional(tf.keras.layers.LSTM(BILSTM_HIDDEN_UNITS,return_sequences=True))(embedded_text_input)\r\n",
        "\r\n",
        "flattened_output = tf.keras.layers.Flatten()(bilstm_output)\r\n",
        "\r\n",
        "dense_output_1 = tf.keras.layers.Dense(units = 512, activation='sigmoid')(flattened_output)\r\n",
        "dense_output_2 = tf.keras.layers.Dense(units = 256, activation='sigmoid')(dense_output_1)\r\n",
        "final_output   = tf.keras.layers.Dense(units = 2839, activation='sigmoid')(dense_output_2)\r\n",
        "\r\n",
        "model = tf.keras.models.Model(inputs=text_input, outputs=final_output)\r\n",
        "model.summary()"
      ],
      "execution_count": null,
      "outputs": [
        {
          "output_type": "stream",
          "text": [
            "Model: \"model\"\n",
            "_________________________________________________________________\n",
            "Layer (type)                 Output Shape              Param #   \n",
            "=================================================================\n",
            "input_1 (InputLayer)         [(None, 1000)]            0         \n",
            "_________________________________________________________________\n",
            "embedding (Embedding)        (None, 1000, 100)         11890400  \n",
            "_________________________________________________________________\n",
            "bidirectional (Bidirectional (None, 1000, 20)          8880      \n",
            "_________________________________________________________________\n",
            "flatten (Flatten)            (None, 20000)             0         \n",
            "_________________________________________________________________\n",
            "dense (Dense)                (None, 512)               10240512  \n",
            "_________________________________________________________________\n",
            "dense_1 (Dense)              (None, 256)               131328    \n",
            "_________________________________________________________________\n",
            "dense_2 (Dense)              (None, 2839)              729623    \n",
            "=================================================================\n",
            "Total params: 23,000,743\n",
            "Trainable params: 23,000,743\n",
            "Non-trainable params: 0\n",
            "_________________________________________________________________\n"
          ],
          "name": "stdout"
        }
      ]
    },
    {
      "cell_type": "code",
      "metadata": {
        "colab": {
          "base_uri": "https://localhost:8080/",
          "height": 754
        },
        "id": "JhK6UUu3jgR2",
        "outputId": "7a2c69ef-c763-4b50-f2b8-d5827e10e269"
      },
      "source": [
        "import matplotlib.pyplot as plt\r\n",
        "from IPython.display import Image\r\n",
        "tf.keras.utils.plot_model(model, to_file='model.png', show_shapes=True)\r\n",
        "Image('model.png')"
      ],
      "execution_count": null,
      "outputs": [
        {
          "output_type": "execute_result",
          "data": {
            "image/png": "[encoded data removed]",
            "text/plain": [
              "<IPython.core.display.Image object>"
            ]
          },
          "metadata": {
            "tags": []
          },
          "execution_count": 32
        }
      ]
    },
    {
      "cell_type": "code",
      "metadata": {
        "id": "oYVQUNoUjyzd"
      },
      "source": [
        "import tensorflow_addons as tfa\r\n",
        "model.compile(loss='binary_crossentropy',\r\n",
        "              optimizer=tf.keras.optimizers.Adam(learning_rate=0.01), \r\n",
        "              metrics = ['accuracy',tfa.metrics.F1Score(num_classes = 2839,threshold = 0.5,average='weighted')])"
      ],
      "execution_count": null,
      "outputs": []
    },
    {
      "cell_type": "code",
      "metadata": {
        "colab": {
          "base_uri": "https://localhost:8080/"
        },
        "id": "Jsc8m2ObkQZR",
        "outputId": "2adbc745-438f-406d-cc97-9aab0c6173dd"
      },
      "source": [
        "# import numpy as np\r\n",
        "\r\n",
        "# model.fit(X_train_seq,y_train,\r\n",
        "#           validation_data = (X_val_seq, y_val),\r\n",
        "#           batch_size = 32,\r\n",
        "#           epochs = 10,\r\n",
        "#           verbose = True,\r\n",
        "#           shuffle = True)"
      ],
      "execution_count": null,
      "outputs": [
        {
          "output_type": "stream",
          "text": [
            "Epoch 1/10\n",
            "1004/1004 [==============================] - 537s 532ms/step - loss: 0.0309 - accuracy: 0.0380 - val_loss: 0.0038 - val_accuracy: 0.0312\n",
            "Epoch 2/10\n",
            "1004/1004 [==============================] - 538s 536ms/step - loss: 0.0051 - accuracy: 0.0405 - val_loss: 0.0038 - val_accuracy: 0.0304\n",
            "Epoch 3/10\n",
            "1004/1004 [==============================] - 537s 535ms/step - loss: 0.0051 - accuracy: 0.0404 - val_loss: 0.0038 - val_accuracy: 0.0304\n",
            "Epoch 4/10\n",
            "1004/1004 [==============================] - 537s 535ms/step - loss: 0.0052 - accuracy: 0.0425 - val_loss: 0.0038 - val_accuracy: 0.0312\n",
            "Epoch 5/10\n",
            "1004/1004 [==============================] - 539s 536ms/step - loss: 0.0052 - accuracy: 0.0426 - val_loss: 0.0038 - val_accuracy: 0.0304\n",
            "Epoch 6/10\n",
            "1004/1004 [==============================] - 538s 536ms/step - loss: 0.0052 - accuracy: 0.0387 - val_loss: 0.0038 - val_accuracy: 0.0304\n",
            "Epoch 7/10\n",
            "1004/1004 [==============================] - 538s 536ms/step - loss: 0.0052 - accuracy: 0.0437 - val_loss: 0.0037 - val_accuracy: 0.0467\n",
            "Epoch 8/10\n",
            "1004/1004 [==============================] - 539s 537ms/step - loss: 0.0050 - accuracy: 0.0748 - val_loss: 0.0035 - val_accuracy: 0.0882\n",
            "Epoch 9/10\n",
            "1004/1004 [==============================] - 538s 536ms/step - loss: 0.0046 - accuracy: 0.1209 - val_loss: 0.0032 - val_accuracy: 0.1053\n",
            "Epoch 10/10\n",
            "1004/1004 [==============================] - 537s 535ms/step - loss: 0.0042 - accuracy: 0.1509 - val_loss: 0.0030 - val_accuracy: 0.1368\n"
          ],
          "name": "stdout"
        },
        {
          "output_type": "execute_result",
          "data": {
            "text/plain": [
              "<tensorflow.python.keras.callbacks.History at 0x7f60b3ec8e48>"
            ]
          },
          "metadata": {
            "tags": []
          },
          "execution_count": 75
        }
      ]
    },
    {
      "cell_type": "code",
      "metadata": {
        "id": "N7wdQQNaIhXs"
      },
      "source": [
        "model.load_weights('/content/drive/MyDrive/Applied ai case study/News_Tagging_Case_Study_1/model.h5')"
      ],
      "execution_count": null,
      "outputs": []
    },
    {
      "cell_type": "code",
      "metadata": {
        "colab": {
          "base_uri": "https://localhost:8080/"
        },
        "id": "5GDPP2X6IUVl",
        "outputId": "46423a2f-cff2-44db-8e0e-5076da5c1d60"
      },
      "source": [
        "import numpy as np\r\n",
        "\r\n",
        "model.fit(X_train_seq,y_train,\r\n",
        "          validation_data = (X_val_seq, y_val),\r\n",
        "          batch_size = 32,\r\n",
        "          epochs = 15,\r\n",
        "          verbose = True,\r\n",
        "          shuffle = True,initial_epoch = 10)"
      ],
      "execution_count": null,
      "outputs": [
        {
          "output_type": "stream",
          "text": [
            "Epoch 11/15\n",
            "1004/1004 [==============================] - 149s 145ms/step - loss: 0.0042 - accuracy: 0.1638 - f1_score: 0.0598 - val_loss: 0.0026 - val_accuracy: 0.1940 - val_f1_score: 0.0790\n",
            "Epoch 12/15\n",
            "1004/1004 [==============================] - 145s 145ms/step - loss: 0.0032 - accuracy: 0.2600 - f1_score: 0.1309 - val_loss: 0.0024 - val_accuracy: 0.2171 - val_f1_score: 0.1309\n",
            "Epoch 13/15\n",
            "1004/1004 [==============================] - 145s 145ms/step - loss: 0.0027 - accuracy: 0.3274 - f1_score: 0.2117 - val_loss: 0.0024 - val_accuracy: 0.2314 - val_f1_score: 0.1720\n",
            "Epoch 14/15\n",
            "1004/1004 [==============================] - 144s 143ms/step - loss: 0.0022 - accuracy: 0.4043 - f1_score: 0.3094 - val_loss: 0.0025 - val_accuracy: 0.2274 - val_f1_score: 0.1787\n",
            "Epoch 15/15\n",
            "1004/1004 [==============================] - 143s 143ms/step - loss: 0.0018 - accuracy: 0.4701 - f1_score: 0.4110 - val_loss: 0.0027 - val_accuracy: 0.2161 - val_f1_score: 0.1959\n"
          ],
          "name": "stdout"
        },
        {
          "output_type": "execute_result",
          "data": {
            "text/plain": [
              "<tensorflow.python.keras.callbacks.History at 0x7fd94dd64588>"
            ]
          },
          "metadata": {
            "tags": []
          },
          "execution_count": 46
        }
      ]
    },
    {
      "cell_type": "code",
      "metadata": {
        "id": "smAng6yP5d_Q"
      },
      "source": [
        "# model.save_weights('/content/drive/MyDrive/Applied ai case study/News_Tagging_Case_Study_1/model.h5')"
      ],
      "execution_count": null,
      "outputs": []
    },
    {
      "cell_type": "code",
      "metadata": {
        "colab": {
          "base_uri": "https://localhost:8080/",
          "height": 267
        },
        "id": "f1teq2E4fVd3",
        "outputId": "4309ecda-bb92-4570-aaf2-03c40435df37"
      },
      "source": [
        "import matplotlib.pyplot as plt\r\n",
        "\r\n",
        "plt.scatter([i for i in range(15)],train_loss[0:15],label = 'TRAIN')\r\n",
        "plt.plot([i for i in range(15)],train_loss[0:15])\r\n",
        "\r\n",
        "plt.scatter([i for i in range(15)],val_loss[0:15],label = 'VALIDATION')\r\n",
        "plt.plot([i for i in range(15)],val_loss[0:15])\r\n",
        "\r\n",
        "plt.legend()\r\n",
        "plt.show()"
      ],
      "execution_count": null,
      "outputs": [
        {
          "output_type": "display_data",
          "data": {
            "image/png": "[encoded data removed]",
            "text/plain": [
              "<Figure size 432x288 with 1 Axes>"
            ]
          },
          "metadata": {
            "tags": [],
            "needs_background": "light"
          }
        }
      ]
    },
    {
      "cell_type": "code",
      "metadata": {
        "id": "fbiGnXgmhBn-"
      },
      "source": [
        "y_test_pred = model.predict(X_test_seq)"
      ],
      "execution_count": null,
      "outputs": []
    },
    {
      "cell_type": "code",
      "metadata": {
        "id": "BtC8QE_4hL0w"
      },
      "source": [
        "y_test_pred_classes = y_test_pred.copy()\r\n",
        "for i in range(y_test_pred_classes.shape[0]):\r\n",
        "  for j in range(y_test_pred.shape[1]):\r\n",
        "    if y_test_pred[i][j] > 0.5:\r\n",
        "      y_test_pred_classes[i][j] = 1\r\n",
        "    else:\r\n",
        "      y_test_pred_classes[i][j] = 0"
      ],
      "execution_count": null,
      "outputs": []
    },
    {
      "cell_type": "code",
      "metadata": {
        "colab": {
          "base_uri": "https://localhost:8080/",
          "height": 286
        },
        "id": "AERgV9c_h4P_",
        "outputId": "e52f7666-9d14-4669-ef74-546d1dae0ec3"
      },
      "source": [
        "from sklearn.metrics import  classification_report\r\n",
        "\r\n",
        "class_report = classification_report(y_test, y_test_pred_classes, output_dict=True)\r\n",
        "report = pd.DataFrame(data = class_report)\r\n",
        "report[['micro avg',\t'macro avg','weighted avg',\t'samples avg']]"
      ],
      "execution_count": null,
      "outputs": [
        {
          "output_type": "stream",
          "text": [
            "/usr/local/lib/python3.6/dist-packages/sklearn/metrics/_classification.py:1272: UndefinedMetricWarning: Precision and F-score are ill-defined and being set to 0.0 in labels with no predicted samples. Use `zero_division` parameter to control this behavior.\n",
            "  _warn_prf(average, modifier, msg_start, len(result))\n",
            "/usr/local/lib/python3.6/dist-packages/sklearn/metrics/_classification.py:1272: UndefinedMetricWarning: Recall and F-score are ill-defined and being set to 0.0 in labels with no true samples. Use `zero_division` parameter to control this behavior.\n",
            "  _warn_prf(average, modifier, msg_start, len(result))\n",
            "/usr/local/lib/python3.6/dist-packages/sklearn/metrics/_classification.py:1272: UndefinedMetricWarning: Precision and F-score are ill-defined and being set to 0.0 in samples with no predicted labels. Use `zero_division` parameter to control this behavior.\n",
            "  _warn_prf(average, modifier, msg_start, len(result))\n"
          ],
          "name": "stderr"
        },
        {
          "output_type": "execute_result",
          "data": {
            "text/html": [
              "<div>\n",
              "<style scoped>\n",
              "    .dataframe tbody tr th:only-of-type {\n",
              "        vertical-align: middle;\n",
              "    }\n",
              "\n",
              "    .dataframe tbody tr th {\n",
              "        vertical-align: top;\n",
              "    }\n",
              "\n",
              "    .dataframe thead th {\n",
              "        text-align: right;\n",
              "    }\n",
              "</style>\n",
              "<table border=\"1\" class=\"dataframe\">\n",
              "  <thead>\n",
              "    <tr style=\"text-align: right;\">\n",
              "      <th></th>\n",
              "      <th>micro avg</th>\n",
              "      <th>macro avg</th>\n",
              "      <th>weighted avg</th>\n",
              "      <th>samples avg</th>\n",
              "    </tr>\n",
              "  </thead>\n",
              "  <tbody>\n",
              "    <tr>\n",
              "      <th>precision</th>\n",
              "      <td>0.370921</td>\n",
              "      <td>0.116513</td>\n",
              "      <td>0.258234</td>\n",
              "      <td>0.203206</td>\n",
              "    </tr>\n",
              "    <tr>\n",
              "      <th>recall</th>\n",
              "      <td>0.180285</td>\n",
              "      <td>0.081054</td>\n",
              "      <td>0.180285</td>\n",
              "      <td>0.175135</td>\n",
              "    </tr>\n",
              "    <tr>\n",
              "      <th>f1-score</th>\n",
              "      <td>0.242637</td>\n",
              "      <td>0.085483</td>\n",
              "      <td>0.197770</td>\n",
              "      <td>0.174335</td>\n",
              "    </tr>\n",
              "    <tr>\n",
              "      <th>support</th>\n",
              "      <td>17023.000000</td>\n",
              "      <td>17023.000000</td>\n",
              "      <td>17023.000000</td>\n",
              "      <td>17023.000000</td>\n",
              "    </tr>\n",
              "  </tbody>\n",
              "</table>\n",
              "</div>"
            ],
            "text/plain": [
              "              micro avg     macro avg  weighted avg   samples avg\n",
              "precision      0.370921      0.116513      0.258234      0.203206\n",
              "recall         0.180285      0.081054      0.180285      0.175135\n",
              "f1-score       0.242637      0.085483      0.197770      0.174335\n",
              "support    17023.000000  17023.000000  17023.000000  17023.000000"
            ]
          },
          "metadata": {
            "tags": []
          },
          "execution_count": 65
        }
      ]
    },
    {
      "cell_type": "markdown",
      "metadata": {
        "id": "pBNdtTumAf3N"
      },
      "source": [
        "### **ZERO SHOT TEXT CLASSIFICATION**\r\n",
        "[TRAIN ONCE, TEST ANYWHERE: ZERO-SHOT LEARNING FOR TEXT CLASSIFICATION](https://arxiv.org/pdf/1712.05972.pdf)\r\n"
      ]
    },
    {
      "cell_type": "code",
      "metadata": {
        "colab": {
          "base_uri": "https://localhost:8080/",
          "height": 195
        },
        "id": "qozqYyIZzL7d",
        "outputId": "d1932bfc-fb80-47c3-bed4-8aa8b6c26eb6"
      },
      "source": [
        "import pandas as pd\n",
        "\n",
        "tagged_news_data = pd.read_csv('/content/drive/My Drive/Applied ai case study/News_Tagging_Case_Study_1/indianexpress_news_tagged_dataset.csv')\n",
        "tagged_news_data[['ARTICLE_TEXT',\n",
        "       'TAGS']].tail()"
      ],
      "execution_count": null,
      "outputs": [
        {
          "output_type": "execute_result",
          "data": {
            "text/html": [
              "<div>\n",
              "<style scoped>\n",
              "    .dataframe tbody tr th:only-of-type {\n",
              "        vertical-align: middle;\n",
              "    }\n",
              "\n",
              "    .dataframe tbody tr th {\n",
              "        vertical-align: top;\n",
              "    }\n",
              "\n",
              "    .dataframe thead th {\n",
              "        text-align: right;\n",
              "    }\n",
              "</style>\n",
              "<table border=\"1\" class=\"dataframe\">\n",
              "  <thead>\n",
              "    <tr style=\"text-align: right;\">\n",
              "      <th></th>\n",
              "      <th>ARTICLE_TEXT</th>\n",
              "      <th>TAGS</th>\n",
              "    </tr>\n",
              "  </thead>\n",
              "  <tbody>\n",
              "    <tr>\n",
              "      <th>57525</th>\n",
              "      <td>No claimants have come forward for about a doz...</td>\n",
              "      <td>swiss account</td>\n",
              "    </tr>\n",
              "    <tr>\n",
              "      <th>57526</th>\n",
              "      <td>Mohammed Ali Shaikh,an accused in the 7/11 Mum...</td>\n",
              "      <td>2006 Malegaon blasts,7/11 Mumbai serial blasts...</td>\n",
              "    </tr>\n",
              "    <tr>\n",
              "      <th>57527</th>\n",
              "      <td>The National Company Law Appellate Tribunal (N...</td>\n",
              "      <td>Cyrus Mistry,Tata Group</td>\n",
              "    </tr>\n",
              "    <tr>\n",
              "      <th>57528</th>\n",
              "      <td>The Bombay High Court today suggested the Maha...</td>\n",
              "      <td>Bombay High Court,Maharashtra government,Skype...</td>\n",
              "    </tr>\n",
              "    <tr>\n",
              "      <th>57529</th>\n",
              "      <td>The Supreme Court Friday issued a notice to Co...</td>\n",
              "      <td>kiran bedi,Puducherry,V Narayanswamy</td>\n",
              "    </tr>\n",
              "  </tbody>\n",
              "</table>\n",
              "</div>"
            ],
            "text/plain": [
              "                                            ARTICLE_TEXT                                               TAGS\n",
              "57525  No claimants have come forward for about a doz...                                      swiss account\n",
              "57526  Mohammed Ali Shaikh,an accused in the 7/11 Mum...  2006 Malegaon blasts,7/11 Mumbai serial blasts...\n",
              "57527  The National Company Law Appellate Tribunal (N...                            Cyrus Mistry,Tata Group\n",
              "57528  The Bombay High Court today suggested the Maha...  Bombay High Court,Maharashtra government,Skype...\n",
              "57529  The Supreme Court Friday issued a notice to Co...               kiran bedi,Puducherry,V Narayanswamy"
            ]
          },
          "metadata": {
            "tags": []
          },
          "execution_count": 27
        }
      ]
    },
    {
      "cell_type": "code",
      "metadata": {
        "colab": {
          "base_uri": "https://localhost:8080/"
        },
        "id": "5jOJJJ2lEQ13",
        "outputId": "c4ebcf6e-9148-4e7e-c509-943e6052ac32"
      },
      "source": [
        "count = 0\r\n",
        "for y in y_train:\r\n",
        "  count+=np.count_nonzero(y)\r\n",
        "count"
      ],
      "execution_count": null,
      "outputs": [
        {
          "output_type": "execute_result",
          "data": {
            "text/plain": [
              "61763"
            ]
          },
          "metadata": {
            "tags": []
          },
          "execution_count": 25
        }
      ]
    },
    {
      "cell_type": "code",
      "metadata": {
        "colab": {
          "base_uri": "https://localhost:8080/"
        },
        "id": "QzB9Ni3eGc1y",
        "outputId": "77ea048f-2b73-4a3b-8c79-7f6f9f71d168"
      },
      "source": [
        "count = 0\r\n",
        "for y in y_val:\r\n",
        "  count+=np.count_nonzero(y)\r\n",
        "count"
      ],
      "execution_count": null,
      "outputs": [
        {
          "output_type": "execute_result",
          "data": {
            "text/plain": [
              "6725"
            ]
          },
          "metadata": {
            "tags": []
          },
          "execution_count": 26
        }
      ]
    },
    {
      "cell_type": "code",
      "metadata": {
        "colab": {
          "base_uri": "https://localhost:8080/"
        },
        "id": "bvCRczGrGdML",
        "outputId": "fae5ab43-3f55-478c-95a6-a287f9c23a56"
      },
      "source": [
        "count = 0\r\n",
        "for y in y_test:\r\n",
        "  count+=np.count_nonzero(y)\r\n",
        "count"
      ],
      "execution_count": null,
      "outputs": [
        {
          "output_type": "execute_result",
          "data": {
            "text/plain": [
              "17023"
            ]
          },
          "metadata": {
            "tags": []
          },
          "execution_count": 27
        }
      ]
    },
    {
      "cell_type": "code",
      "metadata": {
        "id": "6NWmO6f6LbOR"
      },
      "source": [
        "import random\r\n",
        "import numpy as np\r\n",
        "\r\n",
        "# generating training data for zero shot\r\n",
        "\r\n",
        "def preprocess_tokenize_tag(tokenizer,tag):\r\n",
        "  tag = preprocess_text(tag)\r\n",
        "  tag_sequence = tokenizer.texts_to_sequences([tag])\r\n",
        "  tag_sequence = pad_sequences(tag_sequence, maxlen=5,padding = 'post')\r\n",
        "  return tag_sequence[0]\r\n",
        "\r\n",
        "def get_zero_shot_data(X,tags,y,tokenizer,shape):\r\n",
        "  X_article_text = np.zeros((shape*6,1000))\r\n",
        "  X_tags = np.zeros((shape*6,5))\r\n",
        "  binary_labels = []\r\n",
        "  index_to_original_tag_dict = dict()\r\n",
        "  index = 0\r\n",
        "  for i in range(X.shape[0]):\r\n",
        "    # All tags related to the article\r\n",
        "    text_labels = []\r\n",
        "    for j in range(y.shape[1]):\r\n",
        "      if y[i][j] == 1:\r\n",
        "        text_labels.append(tags[j])\r\n",
        "    \r\n",
        "    # pair the article with some random unrelated tags \r\n",
        "    # set the binary label to 0\r\n",
        "    for label in text_labels:\r\n",
        "        X_article_text[index] = X[i]\r\n",
        "        tokens = preprocess_tokenize_tag(tokenizer,label)\r\n",
        "        X_tags[index] = tokens\r\n",
        "        index_to_original_tag_dict[tuple(tokens)] = label\r\n",
        "        index+=1\r\n",
        "        binary_labels.append(1)\r\n",
        "        for k in range(5):\r\n",
        "          while True:\r\n",
        "            random_tag = tags[random.randint(0,len(tags)-1)]\r\n",
        "            if random_tag not in text_labels:\r\n",
        "              X_article_text[index] = X[i]\r\n",
        "              tokens = preprocess_tokenize_tag(tokenizer,random_tag)\r\n",
        "              X_tags[index] = tokens\r\n",
        "              index_to_original_tag_dict[tuple(tokens)] = random_tag\r\n",
        "              index+=1\r\n",
        "              binary_labels.append(0)\r\n",
        "              break\r\n",
        "\r\n",
        "  return X_article_text,X_tags,binary_labels,index_to_original_tag_dict\r\n",
        "\r\n",
        "\r\n",
        "X_train_zs,X_train_tags,y_train_labels,index_to_original_tag_dict_train = get_zero_shot_data(X_train_seq,tags,y_train,tokenizer,61763)\r\n",
        "X_val_zs,X_val_tags,y_val_labels,index_to_original_tag_dict_val = get_zero_shot_data(X_val_seq,tags,y_val,tokenizer,6725)\r\n",
        "X_test_zs,X_test_tags,y_test_labels,index_to_original_tag_dict_test = get_zero_shot_data(X_test_seq,tags,y_test,tokenizer,17023)"
      ],
      "execution_count": null,
      "outputs": []
    },
    {
      "cell_type": "code",
      "metadata": {
        "id": "5AiQjma3Lae7"
      },
      "source": [
        "import numpy as np\r\n",
        "EMBEDDING_DIM = 100\r\n",
        "word_index = tokenizer.word_index\r\n",
        "embedding_matrix = np.load('/content/drive/MyDrive/Applied ai case study/News_Tagging_Case_Study_1/embedding_matrix.npy')"
      ],
      "execution_count": null,
      "outputs": []
    },
    {
      "cell_type": "code",
      "metadata": {
        "colab": {
          "base_uri": "https://localhost:8080/"
        },
        "id": "55B2AtQ_LWp2",
        "outputId": "006e946e-53dc-4c2b-d474-4d3b0e1002b5"
      },
      "source": [
        "import tensorflow as tf\r\n",
        "from keras import initializers\r\n",
        "\r\n",
        "tf.keras.backend.clear_session()\r\n",
        "\r\n",
        "article_text_input = tf.keras.layers.Input(shape=(MAX_SEQUENCE_LENGTH,), dtype='int32')\r\n",
        "tag_text_input = tf.keras.layers.Input(shape=(5,), dtype='int32')\r\n",
        "\r\n",
        "#Using Word2Vec Model as pretrained embedding \r\n",
        "article_embedding_layer = tf.keras.layers.Embedding(len(word_index) + 1,\r\n",
        "                                            EMBEDDING_DIM,\r\n",
        "                                            weights=[embedding_matrix],\r\n",
        "                                            input_length=MAX_SEQUENCE_LENGTH,\r\n",
        "                                            trainable=True)\r\n",
        "\r\n",
        "tag_embedding_layer = tf.keras.layers.Embedding(len(word_index) + 1,\r\n",
        "                                            EMBEDDING_DIM,\r\n",
        "                                            weights=[embedding_matrix],\r\n",
        "                                            input_length=5,\r\n",
        "                                            trainable=True)\r\n",
        "\r\n",
        "embedded_article_text_input = article_embedding_layer(article_text_input)\r\n",
        "embedded_tag_text_input = tag_embedding_layer(tag_text_input)\r\n",
        "\r\n",
        "article_bilstm_output = tf.keras.layers.Bidirectional(tf.keras.layers.LSTM(10,return_sequences=True))(embedded_article_text_input)\r\n",
        "tag_bilstm_output     = tf.keras.layers.Bidirectional(tf.keras.layers.LSTM(5,return_sequences=True))(embedded_tag_text_input)\r\n",
        "\r\n",
        "article_bilstm_output = tf.keras.layers.Flatten()(article_bilstm_output)\r\n",
        "tag_bilstm_output = tf.keras.layers.Flatten()(tag_bilstm_output)\r\n",
        "\r\n",
        "article_tag_concat = tf.keras.layers.Concatenate()([article_bilstm_output,tag_bilstm_output])\r\n",
        "\r\n",
        "dense_output_1 = tf.keras.layers.Dense(units = 512, activation='sigmoid')(article_tag_concat)\r\n",
        "dense_output_2 = tf.keras.layers.Dense(units = 256, activation='sigmoid')(dense_output_1)\r\n",
        "final_output   = tf.keras.layers.Dense(units = 1, activation='sigmoid')(dense_output_2)\r\n",
        "\r\n",
        "model = tf.keras.models.Model(inputs=[article_text_input,tag_text_input], outputs=final_output)\r\n",
        "model.summary()"
      ],
      "execution_count": null,
      "outputs": [
        {
          "output_type": "stream",
          "text": [
            "Model: \"model\"\n",
            "__________________________________________________________________________________________________\n",
            "Layer (type)                    Output Shape         Param #     Connected to                     \n",
            "==================================================================================================\n",
            "input_1 (InputLayer)            [(None, 1000)]       0                                            \n",
            "__________________________________________________________________________________________________\n",
            "input_2 (InputLayer)            [(None, 5)]          0                                            \n",
            "__________________________________________________________________________________________________\n",
            "embedding (Embedding)           (None, 1000, 100)    11890400    input_1[0][0]                    \n",
            "__________________________________________________________________________________________________\n",
            "embedding_1 (Embedding)         (None, 5, 100)       11890400    input_2[0][0]                    \n",
            "__________________________________________________________________________________________________\n",
            "bidirectional (Bidirectional)   (None, 1000, 20)     8880        embedding[0][0]                  \n",
            "__________________________________________________________________________________________________\n",
            "bidirectional_1 (Bidirectional) (None, 5, 10)        4240        embedding_1[0][0]                \n",
            "__________________________________________________________________________________________________\n",
            "flatten (Flatten)               (None, 20000)        0           bidirectional[0][0]              \n",
            "__________________________________________________________________________________________________\n",
            "flatten_1 (Flatten)             (None, 50)           0           bidirectional_1[0][0]            \n",
            "__________________________________________________________________________________________________\n",
            "concatenate (Concatenate)       (None, 20050)        0           flatten[0][0]                    \n",
            "                                                                 flatten_1[0][0]                  \n",
            "__________________________________________________________________________________________________\n",
            "dense (Dense)                   (None, 512)          10266112    concatenate[0][0]                \n",
            "__________________________________________________________________________________________________\n",
            "dense_1 (Dense)                 (None, 256)          131328      dense[0][0]                      \n",
            "__________________________________________________________________________________________________\n",
            "dense_2 (Dense)                 (None, 1)            257         dense_1[0][0]                    \n",
            "==================================================================================================\n",
            "Total params: 34,191,617\n",
            "Trainable params: 34,191,617\n",
            "Non-trainable params: 0\n",
            "__________________________________________________________________________________________________\n"
          ],
          "name": "stdout"
        }
      ]
    },
    {
      "cell_type": "code",
      "metadata": {
        "colab": {
          "base_uri": "https://localhost:8080/",
          "height": 861
        },
        "id": "JU6IN38F7dji",
        "outputId": "150a2583-c056-4a01-c89c-8f9ac6055c57"
      },
      "source": [
        "import matplotlib.pyplot as plt\r\n",
        "from IPython.display import Image\r\n",
        "tf.keras.utils.plot_model(model, to_file='model.png', show_shapes=True)\r\n",
        "Image('model.png')"
      ],
      "execution_count": null,
      "outputs": [
        {
          "output_type": "execute_result",
          "data": {
            "image/png": "[encoded data removed]",
            "text/plain": [
              "<IPython.core.display.Image object>"
            ]
          },
          "metadata": {
            "tags": []
          },
          "execution_count": 52
        }
      ]
    },
    {
      "cell_type": "code",
      "metadata": {
        "id": "MOK-fTzUPEi8"
      },
      "source": [
        "model.compile(loss='binary_crossentropy',\r\n",
        "              optimizer=tf.keras.optimizers.Adam(learning_rate=0.001), \r\n",
        "              metrics = ['accuracy'])"
      ],
      "execution_count": null,
      "outputs": []
    },
    {
      "cell_type": "code",
      "metadata": {
        "colab": {
          "base_uri": "https://localhost:8080/"
        },
        "id": "l4oKfbDUPEjB",
        "outputId": "a9823c61-809c-4ad9-8202-d49752791be6"
      },
      "source": [
        "import numpy as np\r\n",
        "\r\n",
        "model.fit([X_train_zs,X_train_tags],np.array(y_train_labels),\r\n",
        "          validation_data = ([X_val_zs,X_val_tags],np.array(y_val_labels)),\r\n",
        "          batch_size = 1024,\r\n",
        "          epochs = 10,\r\n",
        "          verbose = True,\r\n",
        "          shuffle = True)"
      ],
      "execution_count": null,
      "outputs": [
        {
          "output_type": "stream",
          "text": [
            "Epoch 1/10\n",
            "362/362 [==============================] - 168s 450ms/step - loss: 0.4404 - accuracy: 0.8300 - val_loss: 0.3655 - val_accuracy: 0.8640\n",
            "Epoch 2/10\n",
            "362/362 [==============================] - 161s 444ms/step - loss: 0.3553 - accuracy: 0.8666 - val_loss: 0.3192 - val_accuracy: 0.8727\n",
            "Epoch 3/10\n",
            "362/362 [==============================] - 160s 442ms/step - loss: 0.3141 - accuracy: 0.8743 - val_loss: 0.2987 - val_accuracy: 0.8781\n",
            "Epoch 4/10\n",
            "362/362 [==============================] - 160s 442ms/step - loss: 0.2862 - accuracy: 0.8813 - val_loss: 0.2829 - val_accuracy: 0.8829\n",
            "Epoch 5/10\n",
            "362/362 [==============================] - 160s 441ms/step - loss: 0.2599 - accuracy: 0.8888 - val_loss: 0.2647 - val_accuracy: 0.8872\n",
            "Epoch 6/10\n",
            "362/362 [==============================] - 159s 439ms/step - loss: 0.2218 - accuracy: 0.9020 - val_loss: 0.2427 - val_accuracy: 0.8972\n",
            "Epoch 7/10\n",
            "362/362 [==============================] - 159s 440ms/step - loss: 0.1824 - accuracy: 0.9212 - val_loss: 0.2279 - val_accuracy: 0.9043\n",
            "Epoch 8/10\n",
            "362/362 [==============================] - 159s 439ms/step - loss: 0.1495 - accuracy: 0.9376 - val_loss: 0.2376 - val_accuracy: 0.9073\n",
            "Epoch 9/10\n",
            "362/362 [==============================] - 159s 439ms/step - loss: 0.1224 - accuracy: 0.9511 - val_loss: 0.2392 - val_accuracy: 0.9069\n",
            "Epoch 10/10\n",
            "362/362 [==============================] - 158s 438ms/step - loss: 0.0992 - accuracy: 0.9615 - val_loss: 0.2575 - val_accuracy: 0.9072\n"
          ],
          "name": "stdout"
        },
        {
          "output_type": "execute_result",
          "data": {
            "text/plain": [
              "<tensorflow.python.keras.callbacks.History at 0x7efcafd9a518>"
            ]
          },
          "metadata": {
            "tags": []
          },
          "execution_count": 35
        }
      ]
    },
    {
      "cell_type": "code",
      "metadata": {
        "id": "jSwxpVOLxlol"
      },
      "source": [
        "# model.save_weights('/content/drive/MyDrive/Applied ai case study/News_Tagging_Case_Study_1/model_zs.h5')"
      ],
      "execution_count": null,
      "outputs": []
    },
    {
      "cell_type": "code",
      "metadata": {
        "id": "9tGsQ3Xvj_uX"
      },
      "source": [
        "# model.load_weights('/content/drive/MyDrive/Applied ai case study/News_Tagging_Case_Study_1/model_zs.h5')"
      ],
      "execution_count": null,
      "outputs": []
    },
    {
      "cell_type": "code",
      "metadata": {
        "colab": {
          "base_uri": "https://localhost:8080/"
        },
        "id": "IunxGt1Bxv_w",
        "outputId": "e1bf1736-8752-4115-ad2b-9e8d2682068c"
      },
      "source": [
        "model.evaluate([X_test_zs,X_test_tags],np.array(y_test_labels))"
      ],
      "execution_count": null,
      "outputs": [
        {
          "output_type": "stream",
          "text": [
            "3192/3192 [==============================] - 89s 28ms/step - loss: 0.2588 - accuracy: 0.9061\n"
          ],
          "name": "stdout"
        },
        {
          "output_type": "execute_result",
          "data": {
            "text/plain": [
              "[0.2587941586971283, 0.9060878157615662]"
            ]
          },
          "metadata": {
            "tags": []
          },
          "execution_count": 37
        }
      ]
    },
    {
      "cell_type": "code",
      "metadata": {
        "id": "cx4p0u2jypiJ"
      },
      "source": [
        "y_test_pred = model.predict([X_test_zs,X_test_tags])"
      ],
      "execution_count": null,
      "outputs": []
    },
    {
      "cell_type": "code",
      "metadata": {
        "id": "AfWdN6s52CfR"
      },
      "source": [
        "import numpy as np\r\n",
        "y_test_pred_multilabel = []\r\n",
        "k = 0\r\n",
        "for i in range(y_test.shape[0]):\r\n",
        "  label = np.zeros(2839)\r\n",
        "  label_count = np.count_nonzero(y_test[i])\r\n",
        "  for j in range(6*label_count):\r\n",
        "    tokens = tuple(X_test_tags[k])\r\n",
        "    tag = index_to_original_tag_dict_test[tokens]\r\n",
        "    if y_test_pred[k] > 0.5:\r\n",
        "      label[tags.index(tag)] = 1\r\n",
        "    k+=1\r\n",
        "  y_test_pred_multilabel.append(label)"
      ],
      "execution_count": null,
      "outputs": []
    },
    {
      "cell_type": "code",
      "metadata": {
        "colab": {
          "base_uri": "https://localhost:8080/",
          "height": 286
        },
        "id": "AoHIUOXI2b65",
        "outputId": "ecf0e5f9-e929-4e07-ae85-dbb1fd87d402"
      },
      "source": [
        "from sklearn.metrics import  classification_report\r\n",
        "\r\n",
        "class_report = classification_report(y_test, y_test_pred_multilabel, output_dict=True)\r\n",
        "report = pd.DataFrame(data = class_report)\r\n",
        "report[['micro avg',\t'macro avg','weighted avg',\t'samples avg']]"
      ],
      "execution_count": null,
      "outputs": [
        {
          "output_type": "stream",
          "text": [
            "/usr/local/lib/python3.6/dist-packages/sklearn/metrics/_classification.py:1272: UndefinedMetricWarning: Precision and F-score are ill-defined and being set to 0.0 in labels with no predicted samples. Use `zero_division` parameter to control this behavior.\n",
            "  _warn_prf(average, modifier, msg_start, len(result))\n",
            "/usr/local/lib/python3.6/dist-packages/sklearn/metrics/_classification.py:1272: UndefinedMetricWarning: Recall and F-score are ill-defined and being set to 0.0 in labels with no true samples. Use `zero_division` parameter to control this behavior.\n",
            "  _warn_prf(average, modifier, msg_start, len(result))\n",
            "/usr/local/lib/python3.6/dist-packages/sklearn/metrics/_classification.py:1272: UndefinedMetricWarning: Precision and F-score are ill-defined and being set to 0.0 in samples with no predicted labels. Use `zero_division` parameter to control this behavior.\n",
            "  _warn_prf(average, modifier, msg_start, len(result))\n"
          ],
          "name": "stderr"
        },
        {
          "output_type": "execute_result",
          "data": {
            "text/html": [
              "<div>\n",
              "<style scoped>\n",
              "    .dataframe tbody tr th:only-of-type {\n",
              "        vertical-align: middle;\n",
              "    }\n",
              "\n",
              "    .dataframe tbody tr th {\n",
              "        vertical-align: top;\n",
              "    }\n",
              "\n",
              "    .dataframe thead th {\n",
              "        text-align: right;\n",
              "    }\n",
              "</style>\n",
              "<table border=\"1\" class=\"dataframe\">\n",
              "  <thead>\n",
              "    <tr style=\"text-align: right;\">\n",
              "      <th></th>\n",
              "      <th>micro avg</th>\n",
              "      <th>macro avg</th>\n",
              "      <th>weighted avg</th>\n",
              "      <th>samples avg</th>\n",
              "    </tr>\n",
              "  </thead>\n",
              "  <tbody>\n",
              "    <tr>\n",
              "      <th>precision</th>\n",
              "      <td>0.714433</td>\n",
              "      <td>0.548202</td>\n",
              "      <td>0.692368</td>\n",
              "      <td>0.615240</td>\n",
              "    </tr>\n",
              "    <tr>\n",
              "      <th>recall</th>\n",
              "      <td>0.692064</td>\n",
              "      <td>0.503616</td>\n",
              "      <td>0.692064</td>\n",
              "      <td>0.666233</td>\n",
              "    </tr>\n",
              "    <tr>\n",
              "      <th>f1-score</th>\n",
              "      <td>0.703070</td>\n",
              "      <td>0.500273</td>\n",
              "      <td>0.675779</td>\n",
              "      <td>0.621518</td>\n",
              "    </tr>\n",
              "    <tr>\n",
              "      <th>support</th>\n",
              "      <td>17023.000000</td>\n",
              "      <td>17023.000000</td>\n",
              "      <td>17023.000000</td>\n",
              "      <td>17023.000000</td>\n",
              "    </tr>\n",
              "  </tbody>\n",
              "</table>\n",
              "</div>"
            ],
            "text/plain": [
              "              micro avg     macro avg  weighted avg   samples avg\n",
              "precision      0.714433      0.548202      0.692368      0.615240\n",
              "recall         0.692064      0.503616      0.692064      0.666233\n",
              "f1-score       0.703070      0.500273      0.675779      0.621518\n",
              "support    17023.000000  17023.000000  17023.000000  17023.000000"
            ]
          },
          "metadata": {
            "tags": []
          },
          "execution_count": 51
        }
      ]
    }
  ]
}